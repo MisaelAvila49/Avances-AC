{
 "cells": [
  {
   "cell_type": "markdown",
   "id": "35aeaf8c",
   "metadata": {},
   "source": [
    "# <center>Proyecto Intermedio"
   ]
  },
  {
   "cell_type": "markdown",
   "id": "b7856bef",
   "metadata": {},
   "source": [
    "## Ejercicio 1\n",
    "El triángulo de Sierpinski es un fractal convergente a un conjunto fijo con la figura de un triángulo equilátero subdividido recursivamente en triángulos equiláteros más pequeños. Éste es uno de los ejemplos más básicos de conjuntos **autosemejantes** (_Un objeto es autosemejante cuando una o varias partes de un todo repiten exactamente su similitud con ese todo_)."
   ]
  },
  {
   "cell_type": "markdown",
   "id": "3092d026",
   "metadata": {},
   "source": [
    "Existen distintos algoritmos que nos permiten obtener el triángulo de Sierpinski. A continuación, describimos uno de los más sorprendentes:\n",
    "\n",
    "1. Sin dibujarlos, considera tres puntos en un plano que formen los vértices de un triángulo equilátero.\n",
    "\n",
    "2. Elige un punto arbitrario dentro de la superficie del triángulo equilátero y considéralo tu _posición actual_.\n",
    "\n",
    "3. Elige de forma aleatoria uno de los tres vértices del triángulo equilátero.\n",
    "\n",
    "4. Obtén el punto medio entre tu posición actual y el vértice que elegiste en el paso anterior, considéralo tu nueva posición actual.\n",
    "\n",
    "5. Dibuja el punto de tu posición actual.\n",
    "\n",
    "6. Repite desde el paso 3."
   ]
  },
  {
   "cell_type": "markdown",
   "id": "2db1b268",
   "metadata": {},
   "source": [
    "El ejercicio consiste en implementar el algoritmo anterior y obtener una aproximación del triángulo de Sierpinski. Después debes jugar con el número de vértices iniciales y la distancia de la posición actual al vértice elegido para obtener un fractal distinto. Como seguramente podrás notar, no todas las combinaciones devuelven un fractal."
   ]
  },
  {
   "cell_type": "markdown",
   "id": "3ff18858",
   "metadata": {},
   "source": [
    "<img src=https://culturacientifica.com/app/uploads/2017/07/triangulo4.jpg>\n",
    "<center>Figura 1: Triángulo de Sierpinski"
   ]
  },
  {
   "cell_type": "markdown",
   "id": "dc448a76",
   "metadata": {},
   "source": [
    "**Pista** En Julia, la función rand() nos devuelve un número entero aleatorio entre 0 y 1 ¿Cómo podemos usarla para obtener un número aleatorio dentro de un rango arbitrario?"
   ]
  },
  {
   "cell_type": "code",
   "execution_count": 104,
   "id": "3676b2e6",
   "metadata": {},
   "outputs": [],
   "source": [
    "    x1 = 0                      \n",
    "    x2 = 25                     # Definimos todas las variables que se utilizarán para generar el triángulo \n",
    "    x3 = 50                     # utilizando (x1, y1) para el primer vertice, (x2, y2) para el segundo y (x3, y3) \n",
    "    y1 = 0                      # para el tercero, estás coordenadas fueron calculadas específicamente para generar\n",
    "    y2 = 6.124                  # un triangulo equilatero, además de definir una variable extra denominada z\n",
    "    y3 = 0                      # la cual funcionará para frenar el ciclo que se genere más adelante.\n",
    "    z = 0                       # Finalmente definimos dos variables más (w, h) que representarán nuestra\n",
    "    w = 0                       # \"posición\" durante todo el programa.\n",
    "    h = 0\n",
    "\n",
    "plot([x1], [y1], seriestype = :scatter, title = \"Triangulo de Sierpinski\", label = \"\", color = \"black\") # Generamos la gráfica y gráficamos el vertice 1\n",
    "plot!([x2], [y2], seriestype = :scatter, label = \"\", color = \"black\")                                   # Agregamos el vertice 2\n",
    "plot!([x3], [y1], seriestype = :scatter, label = \"\", color = \"black\")                                   # Agregamos el vertice 3\n",
    "\n",
    "while z <= 100                  # Generamos un ciclo tal que mientras z sea menor que un número el ciclo continue.\n",
    " \n",
    "    r = rand(1:3)               # Obtenemos un número al azar entre 1 y 3, para tomar uno de los 3 vertices del triángulo.\n",
    "\n",
    "if r == 1                       # Programamos un bloque de código en el caso que el número al azar sea 1.\n",
    "        \n",
    "    z = z + 1                   # Sumamos \"1\" a z para que el ciclo frene en algún punto y no se vuelva infinito.\n",
    "    \n",
    "        w = ((x1 + w) / 2)      # Utilizamos la formula de punto medio para así obtener el punto entre nuestra posición\n",
    "        h = ((y1 + h) / 2)      # y el primer vertice, para así generar nuestras nuevas coordenadas.\n",
    "                \n",
    "      \n",
    "plot!([w], [h], seriestype = :scatter, label = \"\", color = \"black\") # Gráficamos el punto nuevo generado por la nueva posición.\n",
    "\n",
    "elseif r == 2                   # Programamos un bloque de código en el caso que el número al azar sea 2.              \n",
    "        \n",
    "    z = z + 1                   # Sumamos \"1\" a z para que el ciclo frene en algún punto y no se vuelva infinito.\n",
    "    \n",
    "        w = ((x2 + w) / 2)      # Utilizamos la formula de punto medio para así obtener el punto entre nuestra posición\n",
    "        h = ((y2 + h) / 2)      # y el segundo vertice, para así generar nuestras nuevas coordenadas.\n",
    "        \n",
    "\n",
    "plot!([w], [h], seriestype = :scatter, label = \"\", color = \"black\") # Gráficamos el punto nuevo generado por la nueva posición.\n",
    "        \n",
    "\n",
    "elseif r == 3                  # Programamos un bloque de código en el caso que el número al azar sea 3.             \n",
    "        \n",
    "    z = z + 1                   # Sumamos \"1\" a z para que el ciclo frene en algún punto y no se vuelva infinito.\n",
    "    \n",
    "        w = ((x3 + w) / 2)      # Utilizamos la formula de punto medio para así obtener el punto entre nuestra posición\n",
    "        h = ((y3 + h) / 2)      # y el tercer vertice, para así generar nuestras nuevas coordenadas.\n",
    "        \n",
    "\n",
    "plot!([w], [h], seriestype = :scatter, label = \"\", color = \"black\") # Gráficamos el punto nuevo generado por la nueva posición.\n",
    "\n",
    "    end                         # Terminamos el bloque de comando aunado a la función \"if\".\n",
    "end                             # Terminamos el bloque de comando aunado a la función \"while\"."
   ]
  },
  {
   "cell_type": "code",
   "execution_count": 103,
   "id": "f02c788b",
   "metadata": {},
   "outputs": [
    {
     "data": {
      "image/svg+xml": [
       "<?xml version=\"1.0\" encoding=\"utf-8\"?>\n",
       "<svg xmlns=\"http://www.w3.org/2000/svg\" xmlns:xlink=\"http://www.w3.org/1999/xlink\" width=\"600\" height=\"400\" viewBox=\"0 0 2400 1600\">\n",
       "<defs>\n",
       "  <clipPath id=\"clip5000\">\n",
       "    <rect x=\"0\" y=\"0\" width=\"2400\" height=\"1600\"/>\n",
       "  </clipPath>\n",
       "</defs>\n",
       "<path clip-path=\"url(#clip5000)\" d=\"\n",
       "M0 1600 L2400 1600 L2400 0 L0 0  Z\n",
       "  \" fill=\"#ffffff\" fill-rule=\"evenodd\" fill-opacity=\"1\"/>\n",
       "<defs>\n",
       "  <clipPath id=\"clip5001\">\n",
       "    <rect x=\"480\" y=\"0\" width=\"1681\" height=\"1600\"/>\n",
       "  </clipPath>\n",
       "</defs>\n",
       "<path clip-path=\"url(#clip5000)\" d=\"\n",
       "M112.177 1486.45 L2352.76 1486.45 L2352.76 123.472 L112.177 123.472  Z\n",
       "  \" fill=\"#ffffff\" fill-rule=\"evenodd\" fill-opacity=\"1\"/>\n",
       "<defs>\n",
       "  <clipPath id=\"clip5002\">\n",
       "    <rect x=\"112\" y=\"123\" width=\"2242\" height=\"1364\"/>\n",
       "  </clipPath>\n",
       "</defs>\n",
       "<polyline clip-path=\"url(#clip5002)\" style=\"stroke:#000000; stroke-width:2; stroke-opacity:0.1; fill:none\" points=\"\n",
       "  175.59,1486.45 175.59,123.472 \n",
       "  \"/>\n",
       "<polyline clip-path=\"url(#clip5002)\" style=\"stroke:#000000; stroke-width:2; stroke-opacity:0.1; fill:none\" points=\"\n",
       "  598.34,1486.45 598.34,123.472 \n",
       "  \"/>\n",
       "<polyline clip-path=\"url(#clip5002)\" style=\"stroke:#000000; stroke-width:2; stroke-opacity:0.1; fill:none\" points=\"\n",
       "  1021.09,1486.45 1021.09,123.472 \n",
       "  \"/>\n",
       "<polyline clip-path=\"url(#clip5002)\" style=\"stroke:#000000; stroke-width:2; stroke-opacity:0.1; fill:none\" points=\"\n",
       "  1443.84,1486.45 1443.84,123.472 \n",
       "  \"/>\n",
       "<polyline clip-path=\"url(#clip5002)\" style=\"stroke:#000000; stroke-width:2; stroke-opacity:0.1; fill:none\" points=\"\n",
       "  1866.59,1486.45 1866.59,123.472 \n",
       "  \"/>\n",
       "<polyline clip-path=\"url(#clip5002)\" style=\"stroke:#000000; stroke-width:2; stroke-opacity:0.1; fill:none\" points=\"\n",
       "  2289.34,1486.45 2289.34,123.472 \n",
       "  \"/>\n",
       "<polyline clip-path=\"url(#clip5002)\" style=\"stroke:#000000; stroke-width:2; stroke-opacity:0.1; fill:none\" points=\"\n",
       "  112.177,1447.87 2352.76,1447.87 \n",
       "  \"/>\n",
       "<polyline clip-path=\"url(#clip5002)\" style=\"stroke:#000000; stroke-width:2; stroke-opacity:0.1; fill:none\" points=\"\n",
       "  112.177,1237.91 2352.76,1237.91 \n",
       "  \"/>\n",
       "<polyline clip-path=\"url(#clip5002)\" style=\"stroke:#000000; stroke-width:2; stroke-opacity:0.1; fill:none\" points=\"\n",
       "  112.177,1027.94 2352.76,1027.94 \n",
       "  \"/>\n",
       "<polyline clip-path=\"url(#clip5002)\" style=\"stroke:#000000; stroke-width:2; stroke-opacity:0.1; fill:none\" points=\"\n",
       "  112.177,817.978 2352.76,817.978 \n",
       "  \"/>\n",
       "<polyline clip-path=\"url(#clip5002)\" style=\"stroke:#000000; stroke-width:2; stroke-opacity:0.1; fill:none\" points=\"\n",
       "  112.177,608.013 2352.76,608.013 \n",
       "  \"/>\n",
       "<polyline clip-path=\"url(#clip5002)\" style=\"stroke:#000000; stroke-width:2; stroke-opacity:0.1; fill:none\" points=\"\n",
       "  112.177,398.048 2352.76,398.048 \n",
       "  \"/>\n",
       "<polyline clip-path=\"url(#clip5002)\" style=\"stroke:#000000; stroke-width:2; stroke-opacity:0.1; fill:none\" points=\"\n",
       "  112.177,188.083 2352.76,188.083 \n",
       "  \"/>\n",
       "<polyline clip-path=\"url(#clip5000)\" style=\"stroke:#000000; stroke-width:4; stroke-opacity:1; fill:none\" points=\"\n",
       "  112.177,1486.45 2352.76,1486.45 \n",
       "  \"/>\n",
       "<polyline clip-path=\"url(#clip5000)\" style=\"stroke:#000000; stroke-width:4; stroke-opacity:1; fill:none\" points=\"\n",
       "  112.177,1486.45 112.177,123.472 \n",
       "  \"/>\n",
       "<polyline clip-path=\"url(#clip5000)\" style=\"stroke:#000000; stroke-width:4; stroke-opacity:1; fill:none\" points=\"\n",
       "  175.59,1486.45 175.59,1470.09 \n",
       "  \"/>\n",
       "<polyline clip-path=\"url(#clip5000)\" style=\"stroke:#000000; stroke-width:4; stroke-opacity:1; fill:none\" points=\"\n",
       "  598.34,1486.45 598.34,1470.09 \n",
       "  \"/>\n",
       "<polyline clip-path=\"url(#clip5000)\" style=\"stroke:#000000; stroke-width:4; stroke-opacity:1; fill:none\" points=\"\n",
       "  1021.09,1486.45 1021.09,1470.09 \n",
       "  \"/>\n",
       "<polyline clip-path=\"url(#clip5000)\" style=\"stroke:#000000; stroke-width:4; stroke-opacity:1; fill:none\" points=\"\n",
       "  1443.84,1486.45 1443.84,1470.09 \n",
       "  \"/>\n",
       "<polyline clip-path=\"url(#clip5000)\" style=\"stroke:#000000; stroke-width:4; stroke-opacity:1; fill:none\" points=\"\n",
       "  1866.59,1486.45 1866.59,1470.09 \n",
       "  \"/>\n",
       "<polyline clip-path=\"url(#clip5000)\" style=\"stroke:#000000; stroke-width:4; stroke-opacity:1; fill:none\" points=\"\n",
       "  2289.34,1486.45 2289.34,1470.09 \n",
       "  \"/>\n",
       "<polyline clip-path=\"url(#clip5000)\" style=\"stroke:#000000; stroke-width:4; stroke-opacity:1; fill:none\" points=\"\n",
       "  112.177,1447.87 139.064,1447.87 \n",
       "  \"/>\n",
       "<polyline clip-path=\"url(#clip5000)\" style=\"stroke:#000000; stroke-width:4; stroke-opacity:1; fill:none\" points=\"\n",
       "  112.177,1237.91 139.064,1237.91 \n",
       "  \"/>\n",
       "<polyline clip-path=\"url(#clip5000)\" style=\"stroke:#000000; stroke-width:4; stroke-opacity:1; fill:none\" points=\"\n",
       "  112.177,1027.94 139.064,1027.94 \n",
       "  \"/>\n",
       "<polyline clip-path=\"url(#clip5000)\" style=\"stroke:#000000; stroke-width:4; stroke-opacity:1; fill:none\" points=\"\n",
       "  112.177,817.978 139.064,817.978 \n",
       "  \"/>\n",
       "<polyline clip-path=\"url(#clip5000)\" style=\"stroke:#000000; stroke-width:4; stroke-opacity:1; fill:none\" points=\"\n",
       "  112.177,608.013 139.064,608.013 \n",
       "  \"/>\n",
       "<polyline clip-path=\"url(#clip5000)\" style=\"stroke:#000000; stroke-width:4; stroke-opacity:1; fill:none\" points=\"\n",
       "  112.177,398.048 139.064,398.048 \n",
       "  \"/>\n",
       "<polyline clip-path=\"url(#clip5000)\" style=\"stroke:#000000; stroke-width:4; stroke-opacity:1; fill:none\" points=\"\n",
       "  112.177,188.083 139.064,188.083 \n",
       "  \"/>\n",
       "<path clip-path=\"url(#clip5000)\" d=\"M 0 0 M175.59 1508.44 Q171.979 1508.44 170.15 1512 Q168.344 1515.55 168.344 1522.67 Q168.344 1529.78 170.15 1533.35 Q171.979 1536.89 175.59 1536.89 Q179.224 1536.89 181.03 1533.35 Q182.858 1529.78 182.858 1522.67 Q182.858 1515.55 181.03 1512 Q179.224 1508.44 175.59 1508.44 M175.59 1504.73 Q181.4 1504.73 184.455 1509.34 Q187.534 1513.92 187.534 1522.67 Q187.534 1531.4 184.455 1536.01 Q181.4 1540.59 175.59 1540.59 Q169.78 1540.59 166.701 1536.01 Q163.645 1531.4 163.645 1522.67 Q163.645 1513.92 166.701 1509.34 Q169.78 1504.73 175.59 1504.73 Z\" fill=\"#000000\" fill-rule=\"evenodd\" fill-opacity=\"1\" /><path clip-path=\"url(#clip5000)\" d=\"M 0 0 M575.216 1535.98 L582.854 1535.98 L582.854 1509.62 L574.544 1511.29 L574.544 1507.03 L582.808 1505.36 L587.484 1505.36 L587.484 1535.98 L595.123 1535.98 L595.123 1539.92 L575.216 1539.92 L575.216 1535.98 Z\" fill=\"#000000\" fill-rule=\"evenodd\" fill-opacity=\"1\" /><path clip-path=\"url(#clip5000)\" d=\"M 0 0 M610.192 1508.44 Q606.581 1508.44 604.752 1512 Q602.947 1515.55 602.947 1522.67 Q602.947 1529.78 604.752 1533.35 Q606.581 1536.89 610.192 1536.89 Q613.827 1536.89 615.632 1533.35 Q617.461 1529.78 617.461 1522.67 Q617.461 1515.55 615.632 1512 Q613.827 1508.44 610.192 1508.44 M610.192 1504.73 Q616.002 1504.73 619.058 1509.34 Q622.137 1513.92 622.137 1522.67 Q622.137 1531.4 619.058 1536.01 Q616.002 1540.59 610.192 1540.59 Q604.382 1540.59 601.303 1536.01 Q598.248 1531.4 598.248 1522.67 Q598.248 1513.92 601.303 1509.34 Q604.382 1504.73 610.192 1504.73 Z\" fill=\"#000000\" fill-rule=\"evenodd\" fill-opacity=\"1\" /><path clip-path=\"url(#clip5000)\" d=\"M 0 0 M1002.24 1535.98 L1018.56 1535.98 L1018.56 1539.92 L996.612 1539.92 L996.612 1535.98 Q999.274 1533.23 1003.86 1528.6 Q1008.46 1523.95 1009.64 1522.61 Q1011.89 1520.08 1012.77 1518.35 Q1013.67 1516.59 1013.67 1514.9 Q1013.67 1512.14 1011.73 1510.41 Q1009.81 1508.67 1006.7 1508.67 Q1004.51 1508.67 1002.05 1509.43 Q999.621 1510.2 996.844 1511.75 L996.844 1507.03 Q999.668 1505.89 1002.12 1505.31 Q1004.58 1504.73 1006.61 1504.73 Q1011.98 1504.73 1015.18 1507.42 Q1018.37 1510.11 1018.37 1514.6 Q1018.37 1516.73 1017.56 1518.65 Q1016.77 1520.54 1014.67 1523.14 Q1014.09 1523.81 1010.99 1527.03 Q1007.89 1530.22 1002.24 1535.98 Z\" fill=\"#000000\" fill-rule=\"evenodd\" fill-opacity=\"1\" /><path clip-path=\"url(#clip5000)\" d=\"M 0 0 M1033.63 1508.44 Q1030.01 1508.44 1028.19 1512 Q1026.38 1515.55 1026.38 1522.67 Q1026.38 1529.78 1028.19 1533.35 Q1030.01 1536.89 1033.63 1536.89 Q1037.26 1536.89 1039.07 1533.35 Q1040.89 1529.78 1040.89 1522.67 Q1040.89 1515.55 1039.07 1512 Q1037.26 1508.44 1033.63 1508.44 M1033.63 1504.73 Q1039.44 1504.73 1042.49 1509.34 Q1045.57 1513.92 1045.57 1522.67 Q1045.57 1531.4 1042.49 1536.01 Q1039.44 1540.59 1033.63 1540.59 Q1027.82 1540.59 1024.74 1536.01 Q1021.68 1531.4 1021.68 1522.67 Q1021.68 1513.92 1024.74 1509.34 Q1027.82 1504.73 1033.63 1504.73 Z\" fill=\"#000000\" fill-rule=\"evenodd\" fill-opacity=\"1\" /><path clip-path=\"url(#clip5000)\" d=\"M 0 0 M1434.58 1521.29 Q1437.94 1522 1439.81 1524.27 Q1441.71 1526.54 1441.71 1529.87 Q1441.71 1534.99 1438.19 1537.79 Q1434.68 1540.59 1428.19 1540.59 Q1426.02 1540.59 1423.7 1540.15 Q1421.41 1539.73 1418.96 1538.88 L1418.96 1534.36 Q1420.9 1535.5 1423.22 1536.08 Q1425.53 1536.66 1428.05 1536.66 Q1432.45 1536.66 1434.74 1534.92 Q1437.06 1533.18 1437.06 1529.87 Q1437.06 1526.82 1434.91 1525.11 Q1432.78 1523.37 1428.96 1523.37 L1424.93 1523.37 L1424.93 1519.53 L1429.14 1519.53 Q1432.59 1519.53 1434.42 1518.16 Q1436.25 1516.77 1436.25 1514.18 Q1436.25 1511.52 1434.35 1510.11 Q1432.48 1508.67 1428.96 1508.67 Q1427.04 1508.67 1424.84 1509.09 Q1422.64 1509.5 1420 1510.38 L1420 1506.22 Q1422.66 1505.48 1424.98 1505.11 Q1427.31 1504.73 1429.37 1504.73 Q1434.7 1504.73 1437.8 1507.17 Q1440.9 1509.57 1440.9 1513.69 Q1440.9 1516.56 1439.26 1518.55 Q1437.62 1520.52 1434.58 1521.29 Z\" fill=\"#000000\" fill-rule=\"evenodd\" fill-opacity=\"1\" /><path clip-path=\"url(#clip5000)\" d=\"M 0 0 M1456.78 1508.44 Q1453.17 1508.44 1451.34 1512 Q1449.54 1515.55 1449.54 1522.67 Q1449.54 1529.78 1451.34 1533.35 Q1453.17 1536.89 1456.78 1536.89 Q1460.42 1536.89 1462.22 1533.35 Q1464.05 1529.78 1464.05 1522.67 Q1464.05 1515.55 1462.22 1512 Q1460.42 1508.44 1456.78 1508.44 M1456.78 1504.73 Q1462.59 1504.73 1465.65 1509.34 Q1468.73 1513.92 1468.73 1522.67 Q1468.73 1531.4 1465.65 1536.01 Q1462.59 1540.59 1456.78 1540.59 Q1450.97 1540.59 1447.89 1536.01 Q1444.84 1531.4 1444.84 1522.67 Q1444.84 1513.92 1447.89 1509.34 Q1450.97 1504.73 1456.78 1504.73 Z\" fill=\"#000000\" fill-rule=\"evenodd\" fill-opacity=\"1\" /><path clip-path=\"url(#clip5000)\" d=\"M 0 0 M1856.09 1509.43 L1844.29 1527.88 L1856.09 1527.88 L1856.09 1509.43 M1854.87 1505.36 L1860.75 1505.36 L1860.75 1527.88 L1865.68 1527.88 L1865.68 1531.77 L1860.75 1531.77 L1860.75 1539.92 L1856.09 1539.92 L1856.09 1531.77 L1840.49 1531.77 L1840.49 1527.26 L1854.87 1505.36 Z\" fill=\"#000000\" fill-rule=\"evenodd\" fill-opacity=\"1\" /><path clip-path=\"url(#clip5000)\" d=\"M 0 0 M1880.75 1508.44 Q1877.14 1508.44 1875.31 1512 Q1873.5 1515.55 1873.5 1522.67 Q1873.5 1529.78 1875.31 1533.35 Q1877.14 1536.89 1880.75 1536.89 Q1884.38 1536.89 1886.19 1533.35 Q1888.02 1529.78 1888.02 1522.67 Q1888.02 1515.55 1886.19 1512 Q1884.38 1508.44 1880.75 1508.44 M1880.75 1504.73 Q1886.56 1504.73 1889.61 1509.34 Q1892.69 1513.92 1892.69 1522.67 Q1892.69 1531.4 1889.61 1536.01 Q1886.56 1540.59 1880.75 1540.59 Q1874.94 1540.59 1871.86 1536.01 Q1868.8 1531.4 1868.8 1522.67 Q1868.8 1513.92 1871.86 1509.34 Q1874.94 1504.73 1880.75 1504.73 Z\" fill=\"#000000\" fill-rule=\"evenodd\" fill-opacity=\"1\" /><path clip-path=\"url(#clip5000)\" d=\"M 0 0 M2266.11 1505.36 L2284.47 1505.36 L2284.47 1509.3 L2270.4 1509.3 L2270.4 1517.77 Q2271.42 1517.42 2272.43 1517.26 Q2273.45 1517.07 2274.47 1517.07 Q2280.26 1517.07 2283.64 1520.24 Q2287.02 1523.42 2287.02 1528.83 Q2287.02 1534.41 2283.54 1537.51 Q2280.07 1540.59 2273.75 1540.59 Q2271.58 1540.59 2269.31 1540.22 Q2267.06 1539.85 2264.66 1539.11 L2264.66 1534.41 Q2266.74 1535.54 2268.96 1536.1 Q2271.18 1536.66 2273.66 1536.66 Q2277.67 1536.66 2280 1534.55 Q2282.34 1532.44 2282.34 1528.83 Q2282.34 1525.22 2280 1523.11 Q2277.67 1521.01 2273.66 1521.01 Q2271.79 1521.01 2269.91 1521.42 Q2268.06 1521.84 2266.11 1522.72 L2266.11 1505.36 Z\" fill=\"#000000\" fill-rule=\"evenodd\" fill-opacity=\"1\" /><path clip-path=\"url(#clip5000)\" d=\"M 0 0 M2302.09 1508.44 Q2298.48 1508.44 2296.65 1512 Q2294.84 1515.55 2294.84 1522.67 Q2294.84 1529.78 2296.65 1533.35 Q2298.48 1536.89 2302.09 1536.89 Q2305.72 1536.89 2307.53 1533.35 Q2309.35 1529.78 2309.35 1522.67 Q2309.35 1515.55 2307.53 1512 Q2305.72 1508.44 2302.09 1508.44 M2302.09 1504.73 Q2307.9 1504.73 2310.95 1509.34 Q2314.03 1513.92 2314.03 1522.67 Q2314.03 1531.4 2310.95 1536.01 Q2307.9 1540.59 2302.09 1540.59 Q2296.28 1540.59 2293.2 1536.01 Q2290.14 1531.4 2290.14 1522.67 Q2290.14 1513.92 2293.2 1509.34 Q2296.28 1504.73 2302.09 1504.73 Z\" fill=\"#000000\" fill-rule=\"evenodd\" fill-opacity=\"1\" /><path clip-path=\"url(#clip5000)\" d=\"M 0 0 M76.2328 1433.67 Q72.6217 1433.67 70.793 1437.24 Q68.9875 1440.78 68.9875 1447.91 Q68.9875 1455.01 70.793 1458.58 Q72.6217 1462.12 76.2328 1462.12 Q79.867 1462.12 81.6726 1458.58 Q83.5013 1455.01 83.5013 1447.91 Q83.5013 1440.78 81.6726 1437.24 Q79.867 1433.67 76.2328 1433.67 M76.2328 1429.97 Q82.0429 1429.97 85.0985 1434.57 Q88.1772 1439.16 88.1772 1447.91 Q88.1772 1456.63 85.0985 1461.24 Q82.0429 1465.82 76.2328 1465.82 Q70.4226 1465.82 67.344 1461.24 Q64.2884 1456.63 64.2884 1447.91 Q64.2884 1439.16 67.344 1434.57 Q70.4226 1429.97 76.2328 1429.97 Z\" fill=\"#000000\" fill-rule=\"evenodd\" fill-opacity=\"1\" /><path clip-path=\"url(#clip5000)\" d=\"M 0 0 M68.2699 1251.25 L75.9087 1251.25 L75.9087 1224.89 L67.5986 1226.55 L67.5986 1222.29 L75.8624 1220.63 L80.5383 1220.63 L80.5383 1251.25 L88.1772 1251.25 L88.1772 1255.19 L68.2699 1255.19 L68.2699 1251.25 Z\" fill=\"#000000\" fill-rule=\"evenodd\" fill-opacity=\"1\" /><path clip-path=\"url(#clip5000)\" d=\"M 0 0 M71.8578 1041.29 L88.1772 1041.29 L88.1772 1045.22 L66.2328 1045.22 L66.2328 1041.29 Q68.8949 1038.53 73.4782 1033.9 Q78.0846 1029.25 79.2652 1027.91 Q81.5105 1025.39 82.3902 1023.65 Q83.2929 1021.89 83.2929 1020.2 Q83.2929 1017.45 81.3485 1015.71 Q79.4272 1013.97 76.3254 1013.97 Q74.1263 1013.97 71.6726 1014.74 Q69.2421 1015.5 66.4643 1017.05 L66.4643 1012.33 Q69.2884 1011.2 71.7421 1010.62 Q74.1958 1010.04 76.2328 1010.04 Q81.6031 1010.04 84.7976 1012.72 Q87.992 1015.41 87.992 1019.9 Q87.992 1022.03 87.1818 1023.95 Q86.3948 1025.85 84.2883 1028.44 Q83.7096 1029.11 80.6078 1032.33 Q77.5059 1035.52 71.8578 1041.29 Z\" fill=\"#000000\" fill-rule=\"evenodd\" fill-opacity=\"1\" /><path clip-path=\"url(#clip5000)\" d=\"M 0 0 M81.0476 816.624 Q84.404 817.341 86.279 819.61 Q88.1772 821.878 88.1772 825.212 Q88.1772 830.327 84.6587 833.128 Q81.1402 835.929 74.6587 835.929 Q72.4828 835.929 70.168 835.489 Q67.8764 835.073 65.4227 834.216 L65.4227 829.702 Q67.3671 830.837 69.6819 831.415 Q71.9967 831.994 74.5198 831.994 Q78.918 831.994 81.2096 830.258 Q83.5244 828.522 83.5244 825.212 Q83.5244 822.156 81.3717 820.443 Q79.242 818.707 75.4226 818.707 L71.3949 818.707 L71.3949 814.864 L75.6078 814.864 Q79.0569 814.864 80.8855 813.499 Q82.7142 812.11 82.7142 809.517 Q82.7142 806.855 80.8161 805.443 Q78.9411 804.008 75.4226 804.008 Q73.5013 804.008 71.3023 804.425 Q69.1032 804.841 66.4643 805.721 L66.4643 801.554 Q69.1264 800.814 71.4412 800.443 Q73.7791 800.073 75.8393 800.073 Q81.1633 800.073 84.2652 802.503 Q87.367 804.911 87.367 809.031 Q87.367 811.901 85.7235 813.892 Q84.08 815.86 81.0476 816.624 Z\" fill=\"#000000\" fill-rule=\"evenodd\" fill-opacity=\"1\" /><path clip-path=\"url(#clip5000)\" d=\"M 0 0 M78.5939 594.807 L66.7884 613.256 L78.5939 613.256 L78.5939 594.807 M77.367 590.733 L83.2466 590.733 L83.2466 613.256 L88.1772 613.256 L88.1772 617.145 L83.2466 617.145 L83.2466 625.293 L78.5939 625.293 L78.5939 617.145 L62.9921 617.145 L62.9921 612.631 L77.367 590.733 Z\" fill=\"#000000\" fill-rule=\"evenodd\" fill-opacity=\"1\" /><path clip-path=\"url(#clip5000)\" d=\"M 0 0 M67.2745 380.768 L85.6309 380.768 L85.6309 384.703 L71.5569 384.703 L71.5569 393.175 Q72.5754 392.828 73.5939 392.666 Q74.6124 392.481 75.6309 392.481 Q81.418 392.481 84.7976 395.652 Q88.1772 398.823 88.1772 404.24 Q88.1772 409.818 84.705 412.92 Q81.2328 415.999 74.9134 415.999 Q72.7374 415.999 70.4689 415.629 Q68.2236 415.258 65.8162 414.517 L65.8162 409.818 Q67.8995 410.953 70.1217 411.508 Q72.3439 412.064 74.8208 412.064 Q78.8254 412.064 81.1633 409.957 Q83.5013 407.851 83.5013 404.24 Q83.5013 400.629 81.1633 398.522 Q78.8254 396.416 74.8208 396.416 Q72.9458 396.416 71.0708 396.832 Q69.2189 397.249 67.2745 398.129 L67.2745 380.768 Z\" fill=\"#000000\" fill-rule=\"evenodd\" fill-opacity=\"1\" /><path clip-path=\"url(#clip5000)\" d=\"M 0 0 M76.6495 186.219 Q73.5013 186.219 71.6495 188.372 Q69.8208 190.525 69.8208 194.275 Q69.8208 198.002 71.6495 200.177 Q73.5013 202.33 76.6495 202.33 Q79.7976 202.33 81.6263 200.177 Q83.4781 198.002 83.4781 194.275 Q83.4781 190.525 81.6263 188.372 Q79.7976 186.219 76.6495 186.219 M85.9318 171.566 L85.9318 175.826 Q84.1726 174.992 82.367 174.553 Q80.5846 174.113 78.8254 174.113 Q74.1958 174.113 71.7421 177.238 Q69.3115 180.363 68.9643 186.682 Q70.33 184.668 72.3902 183.603 Q74.4504 182.515 76.9272 182.515 Q82.1355 182.515 85.1448 185.687 Q88.1772 188.835 88.1772 194.275 Q88.1772 199.599 85.029 202.816 Q81.8809 206.034 76.6495 206.034 Q70.6541 206.034 67.4828 201.451 Q64.3116 196.844 64.3116 188.117 Q64.3116 179.923 68.2004 175.062 Q72.0893 170.178 78.6402 170.178 Q80.3994 170.178 82.1818 170.525 Q83.9874 170.872 85.9318 171.566 Z\" fill=\"#000000\" fill-rule=\"evenodd\" fill-opacity=\"1\" /><path clip-path=\"url(#clip5000)\" d=\"M 0 0 M818.181 12.096 L869.343 12.096 L869.343 18.9825 L847.874 18.9825 L847.874 72.576 L839.65 72.576 L839.65 18.9825 L818.181 18.9825 L818.181 12.096 Z\" fill=\"#000000\" fill-rule=\"evenodd\" fill-opacity=\"1\" /><path clip-path=\"url(#clip5000)\" d=\"M 0 0 M891.259 34.1734 Q890.003 33.4443 888.504 33.1202 Q887.046 32.7556 885.264 32.7556 Q878.944 32.7556 875.541 36.8875 Q872.179 40.9789 872.179 48.6757 L872.179 72.576 L864.685 72.576 L864.685 27.2059 L872.179 27.2059 L872.179 34.2544 Q874.529 30.1225 878.296 28.1376 Q882.063 26.1121 887.451 26.1121 Q888.221 26.1121 889.152 26.2337 Q890.084 26.3147 891.218 26.5172 L891.259 34.1734 Z\" fill=\"#000000\" fill-rule=\"evenodd\" fill-opacity=\"1\" /><path clip-path=\"url(#clip5000)\" d=\"M 0 0 M899.077 27.2059 L906.531 27.2059 L906.531 72.576 L899.077 72.576 L899.077 27.2059 M899.077 9.54393 L906.531 9.54393 L906.531 18.9825 L899.077 18.9825 L899.077 9.54393 Z\" fill=\"#000000\" fill-rule=\"evenodd\" fill-opacity=\"1\" /><path clip-path=\"url(#clip5000)\" d=\"M 0 0 M934.968 49.7694 Q925.935 49.7694 922.451 51.8354 Q918.967 53.9013 918.967 58.8839 Q918.967 62.8538 921.56 65.2034 Q924.193 67.5124 928.689 67.5124 Q934.887 67.5124 938.614 63.1374 Q942.381 58.7219 942.381 51.4303 L942.381 49.7694 L934.968 49.7694 M949.835 46.6907 L949.835 72.576 L942.381 72.576 L942.381 65.6895 Q939.829 69.8214 936.021 71.8063 Q932.214 73.7508 926.704 73.7508 Q919.737 73.7508 915.605 69.8619 Q911.513 65.9325 911.513 59.3701 Q911.513 51.7138 916.618 47.825 Q921.762 43.9361 931.93 43.9361 L942.381 43.9361 L942.381 43.2069 Q942.381 38.0623 938.979 35.2672 Q935.616 32.4315 929.499 32.4315 Q925.611 32.4315 921.924 33.3632 Q918.238 34.295 914.835 36.1584 L914.835 29.2718 Q918.927 27.692 922.775 26.9223 Q926.623 26.1121 930.269 26.1121 Q940.113 26.1121 944.974 31.2163 Q949.835 36.3204 949.835 46.6907 Z\" fill=\"#000000\" fill-rule=\"evenodd\" fill-opacity=\"1\" /><path clip-path=\"url(#clip5000)\" d=\"M 0 0 M995.367 45.1919 L995.367 72.576 L987.913 72.576 L987.913 45.4349 Q987.913 38.994 985.402 35.7938 Q982.89 32.5936 977.867 32.5936 Q971.831 32.5936 968.348 36.4419 Q964.864 40.2903 964.864 46.9338 L964.864 72.576 L957.37 72.576 L957.37 27.2059 L964.864 27.2059 L964.864 34.2544 Q967.537 30.163 971.143 28.1376 Q974.789 26.1121 979.528 26.1121 Q987.346 26.1121 991.357 30.9732 Q995.367 35.7938 995.367 45.1919 Z\" fill=\"#000000\" fill-rule=\"evenodd\" fill-opacity=\"1\" /><path clip-path=\"url(#clip5000)\" d=\"M 0 0 M1033.04 49.3643 Q1033.04 41.2625 1029.68 36.8065 Q1026.36 32.3505 1020.32 32.3505 Q1014.33 32.3505 1010.96 36.8065 Q1007.64 41.2625 1007.64 49.3643 Q1007.64 57.4256 1010.96 61.8816 Q1014.33 66.3376 1020.32 66.3376 Q1026.36 66.3376 1029.68 61.8816 Q1033.04 57.4256 1033.04 49.3643 M1040.49 66.9452 Q1040.49 78.5308 1035.35 84.1616 Q1030.2 89.8329 1019.59 89.8329 Q1015.66 89.8329 1012.18 89.2252 Q1008.69 88.6581 1005.41 87.4428 L1005.41 80.1917 Q1008.69 81.9741 1011.89 82.8248 Q1015.1 83.6755 1018.42 83.6755 Q1025.75 83.6755 1029.39 79.8271 Q1033.04 76.0193 1033.04 68.282 L1033.04 64.5957 Q1030.73 68.6061 1027.13 70.5911 Q1023.52 72.576 1018.5 72.576 Q1010.15 72.576 1005.05 66.2161 Q999.945 59.8562 999.945 49.3643 Q999.945 38.832 1005.05 32.472 Q1010.15 26.1121 1018.5 26.1121 Q1023.52 26.1121 1027.13 28.0971 Q1030.73 30.082 1033.04 34.0924 L1033.04 27.2059 L1040.49 27.2059 L1040.49 66.9452 Z\" fill=\"#000000\" fill-rule=\"evenodd\" fill-opacity=\"1\" /><path clip-path=\"url(#clip5000)\" d=\"M 0 0 M1047.54 54.671 L1047.54 27.2059 L1055 27.2059 L1055 54.3874 Q1055 60.8284 1057.51 64.0691 Q1060.02 67.2693 1065.04 67.2693 Q1071.08 67.2693 1074.56 63.421 Q1078.09 59.5726 1078.09 52.9291 L1078.09 27.2059 L1085.54 27.2059 L1085.54 72.576 L1078.09 72.576 L1078.09 65.6084 Q1075.37 69.7404 1071.77 71.7658 Q1068.2 73.7508 1063.46 73.7508 Q1055.64 73.7508 1051.59 68.8897 Q1047.54 64.0286 1047.54 54.671 M1066.3 26.1121 L1066.3 26.1121 Z\" fill=\"#000000\" fill-rule=\"evenodd\" fill-opacity=\"1\" /><path clip-path=\"url(#clip5000)\" d=\"M 0 0 M1093.36 9.54393 L1100.81 9.54393 L1100.81 72.576 L1093.36 72.576 L1093.36 9.54393 Z\" fill=\"#000000\" fill-rule=\"evenodd\" fill-opacity=\"1\" /><path clip-path=\"url(#clip5000)\" d=\"M 0 0 M1126.21 32.4315 Q1120.22 32.4315 1116.73 37.1306 Q1113.25 41.7891 1113.25 49.9314 Q1113.25 58.0738 1116.69 62.7728 Q1120.18 67.4314 1126.21 67.4314 Q1132.17 67.4314 1135.65 62.7323 Q1139.13 58.0333 1139.13 49.9314 Q1139.13 41.8701 1135.65 37.1711 Q1132.17 32.4315 1126.21 32.4315 M1126.21 26.1121 Q1135.93 26.1121 1141.48 32.4315 Q1147.03 38.7509 1147.03 49.9314 Q1147.03 61.0714 1141.48 67.4314 Q1135.93 73.7508 1126.21 73.7508 Q1116.45 73.7508 1110.9 67.4314 Q1105.39 61.0714 1105.39 49.9314 Q1105.39 38.7509 1110.9 32.4315 Q1116.45 26.1121 1126.21 26.1121 Z\" fill=\"#000000\" fill-rule=\"evenodd\" fill-opacity=\"1\" /><path clip-path=\"url(#clip5000)\" d=\"M 0 0 M1211.08 34.0924 L1211.08 9.54393 L1218.53 9.54393 L1218.53 72.576 L1211.08 72.576 L1211.08 65.7705 Q1208.73 69.8214 1205.12 71.8063 Q1201.56 73.7508 1196.54 73.7508 Q1188.31 73.7508 1183.13 67.1883 Q1177.98 60.6258 1177.98 49.9314 Q1177.98 39.2371 1183.13 32.6746 Q1188.31 26.1121 1196.54 26.1121 Q1201.56 26.1121 1205.12 28.0971 Q1208.73 30.0415 1211.08 34.0924 M1185.68 49.9314 Q1185.68 58.1548 1189.04 62.8538 Q1192.44 67.5124 1198.36 67.5124 Q1204.27 67.5124 1207.68 62.8538 Q1211.08 58.1548 1211.08 49.9314 Q1211.08 41.7081 1207.68 37.0496 Q1204.27 32.3505 1198.36 32.3505 Q1192.44 32.3505 1189.04 37.0496 Q1185.68 41.7081 1185.68 49.9314 Z\" fill=\"#000000\" fill-rule=\"evenodd\" fill-opacity=\"1\" /><path clip-path=\"url(#clip5000)\" d=\"M 0 0 M1265.16 48.0275 L1265.16 51.6733 L1230.89 51.6733 Q1231.37 59.3701 1235.5 63.421 Q1239.68 67.4314 1247.09 67.4314 Q1251.38 67.4314 1255.39 66.3781 Q1259.45 65.3249 1263.42 63.2184 L1263.42 70.267 Q1259.41 71.9684 1255.19 72.8596 Q1250.98 73.7508 1246.64 73.7508 Q1235.79 73.7508 1229.43 67.4314 Q1223.11 61.1119 1223.11 50.3365 Q1223.11 39.1965 1229.1 32.6746 Q1235.14 26.1121 1245.35 26.1121 Q1254.5 26.1121 1259.81 32.0264 Q1265.16 37.9003 1265.16 48.0275 M1257.7 45.84 Q1257.62 39.7232 1254.26 36.0774 Q1250.94 32.4315 1245.43 32.4315 Q1239.19 32.4315 1235.42 35.9558 Q1231.7 39.4801 1231.13 45.8805 L1257.7 45.84 Z\" fill=\"#000000\" fill-rule=\"evenodd\" fill-opacity=\"1\" /><path clip-path=\"url(#clip5000)\" d=\"M 0 0 M1335.93 14.0809 L1335.93 22.0612 Q1331.27 19.8332 1327.14 18.7395 Q1323 17.6457 1319.16 17.6457 Q1312.47 17.6457 1308.83 20.2383 Q1305.22 22.8309 1305.22 27.611 Q1305.22 31.6214 1307.61 33.6873 Q1310.04 35.7128 1316.77 36.9686 L1321.71 37.9813 Q1330.86 39.7232 1335.2 44.1387 Q1339.57 48.5136 1339.57 55.8863 Q1339.57 64.6767 1333.66 69.2137 Q1327.78 73.7508 1316.4 73.7508 Q1312.11 73.7508 1307.25 72.7785 Q1302.43 71.8063 1297.24 69.9024 L1297.24 61.4765 Q1302.22 64.2716 1307 65.6895 Q1311.78 67.1073 1316.4 67.1073 Q1323.41 67.1073 1327.22 64.3527 Q1331.03 61.598 1331.03 56.4939 Q1331.03 52.0379 1328.27 49.5264 Q1325.56 47.0148 1319.32 45.759 L1314.34 44.7868 Q1305.18 42.9639 1301.09 39.075 Q1297 35.1862 1297 28.2591 Q1297 20.2383 1302.63 15.6203 Q1308.3 11.0023 1318.22 11.0023 Q1322.48 11.0023 1326.89 11.7719 Q1331.31 12.5416 1335.93 14.0809 Z\" fill=\"#000000\" fill-rule=\"evenodd\" fill-opacity=\"1\" /><path clip-path=\"url(#clip5000)\" d=\"M 0 0 M1347.39 27.2059 L1354.84 27.2059 L1354.84 72.576 L1347.39 72.576 L1347.39 27.2059 M1347.39 9.54393 L1354.84 9.54393 L1354.84 18.9825 L1347.39 18.9825 L1347.39 9.54393 Z\" fill=\"#000000\" fill-rule=\"evenodd\" fill-opacity=\"1\" /><path clip-path=\"url(#clip5000)\" d=\"M 0 0 M1401.47 48.0275 L1401.47 51.6733 L1367.2 51.6733 Q1367.69 59.3701 1371.82 63.421 Q1375.99 67.4314 1383.4 67.4314 Q1387.7 67.4314 1391.71 66.3781 Q1395.76 65.3249 1399.73 63.2184 L1399.73 70.267 Q1395.72 71.9684 1391.51 72.8596 Q1387.29 73.7508 1382.96 73.7508 Q1372.1 73.7508 1365.74 67.4314 Q1359.42 61.1119 1359.42 50.3365 Q1359.42 39.1965 1365.42 32.6746 Q1371.45 26.1121 1381.66 26.1121 Q1390.82 26.1121 1396.12 32.0264 Q1401.47 37.9003 1401.47 48.0275 M1394.02 45.84 Q1393.94 39.7232 1390.57 36.0774 Q1387.25 32.4315 1381.74 32.4315 Q1375.5 32.4315 1371.74 35.9558 Q1368.01 39.4801 1367.44 45.8805 L1394.02 45.84 Z\" fill=\"#000000\" fill-rule=\"evenodd\" fill-opacity=\"1\" /><path clip-path=\"url(#clip5000)\" d=\"M 0 0 M1435.58 34.1734 Q1434.32 33.4443 1432.82 33.1202 Q1431.37 32.7556 1429.58 32.7556 Q1423.26 32.7556 1419.86 36.8875 Q1416.5 40.9789 1416.5 48.6757 L1416.5 72.576 L1409 72.576 L1409 27.2059 L1416.5 27.2059 L1416.5 34.2544 Q1418.85 30.1225 1422.62 28.1376 Q1426.38 26.1121 1431.77 26.1121 Q1432.54 26.1121 1433.47 26.2337 Q1434.4 26.3147 1435.54 26.5172 L1435.58 34.1734 Z\" fill=\"#000000\" fill-rule=\"evenodd\" fill-opacity=\"1\" /><path clip-path=\"url(#clip5000)\" d=\"M 0 0 M1450.61 65.7705 L1450.61 89.8329 L1443.11 89.8329 L1443.11 27.2059 L1450.61 27.2059 L1450.61 34.0924 Q1452.96 30.0415 1456.52 28.0971 Q1460.13 26.1121 1465.11 26.1121 Q1473.37 26.1121 1478.52 32.6746 Q1483.7 39.2371 1483.7 49.9314 Q1483.7 60.6258 1478.52 67.1883 Q1473.37 73.7508 1465.11 73.7508 Q1460.13 73.7508 1456.52 71.8063 Q1452.96 69.8214 1450.61 65.7705 M1475.97 49.9314 Q1475.97 41.7081 1472.56 37.0496 Q1469.2 32.3505 1463.29 32.3505 Q1457.37 32.3505 1453.97 37.0496 Q1450.61 41.7081 1450.61 49.9314 Q1450.61 58.1548 1453.97 62.8538 Q1457.37 67.5124 1463.29 67.5124 Q1469.2 67.5124 1472.56 62.8538 Q1475.97 58.1548 1475.97 49.9314 Z\" fill=\"#000000\" fill-rule=\"evenodd\" fill-opacity=\"1\" /><path clip-path=\"url(#clip5000)\" d=\"M 0 0 M1491.52 27.2059 L1498.98 27.2059 L1498.98 72.576 L1491.52 72.576 L1491.52 27.2059 M1491.52 9.54393 L1498.98 9.54393 L1498.98 18.9825 L1491.52 18.9825 L1491.52 9.54393 Z\" fill=\"#000000\" fill-rule=\"evenodd\" fill-opacity=\"1\" /><path clip-path=\"url(#clip5000)\" d=\"M 0 0 M1544.51 45.1919 L1544.51 72.576 L1537.05 72.576 L1537.05 45.4349 Q1537.05 38.994 1534.54 35.7938 Q1532.03 32.5936 1527.01 32.5936 Q1520.97 32.5936 1517.49 36.4419 Q1514 40.2903 1514 46.9338 L1514 72.576 L1506.51 72.576 L1506.51 27.2059 L1514 27.2059 L1514 34.2544 Q1516.68 30.163 1520.28 28.1376 Q1523.93 26.1121 1528.67 26.1121 Q1536.49 26.1121 1540.5 30.9732 Q1544.51 35.7938 1544.51 45.1919 Z\" fill=\"#000000\" fill-rule=\"evenodd\" fill-opacity=\"1\" /><path clip-path=\"url(#clip5000)\" d=\"M 0 0 M1581.25 28.5427 L1581.25 35.5912 Q1578.09 33.9709 1574.69 33.1607 Q1571.28 32.3505 1567.64 32.3505 Q1562.09 32.3505 1559.29 34.0519 Q1556.54 35.7533 1556.54 39.156 Q1556.54 41.7486 1558.52 43.2475 Q1560.51 44.7058 1566.5 46.0426 L1569.06 46.6097 Q1577 48.3111 1580.32 51.4303 Q1583.68 54.509 1583.68 60.0587 Q1583.68 66.3781 1578.66 70.0644 Q1573.67 73.7508 1564.92 73.7508 Q1561.28 73.7508 1557.31 73.0216 Q1553.38 72.3329 1549 70.9151 L1549 63.2184 Q1553.14 65.3654 1557.15 66.4591 Q1561.16 67.5124 1565.09 67.5124 Q1570.35 67.5124 1573.19 65.73 Q1576.02 63.9071 1576.02 60.6258 Q1576.02 57.5877 1573.96 55.9673 Q1571.93 54.3469 1565.01 52.8481 L1562.41 52.2405 Q1555.49 50.7821 1552.41 47.7845 Q1549.33 44.7463 1549.33 39.4801 Q1549.33 33.0797 1553.87 29.5959 Q1558.4 26.1121 1566.75 26.1121 Q1570.88 26.1121 1574.52 26.7198 Q1578.17 27.3274 1581.25 28.5427 Z\" fill=\"#000000\" fill-rule=\"evenodd\" fill-opacity=\"1\" /><path clip-path=\"url(#clip5000)\" d=\"M 0 0 M1591.21 9.54393 L1598.71 9.54393 L1598.71 46.7717 L1620.95 27.2059 L1630.47 27.2059 L1606.41 48.4326 L1631.48 72.576 L1621.76 72.576 L1598.71 50.4176 L1598.71 72.576 L1591.21 72.576 L1591.21 9.54393 Z\" fill=\"#000000\" fill-rule=\"evenodd\" fill-opacity=\"1\" /><path clip-path=\"url(#clip5000)\" d=\"M 0 0 M1639.3 27.2059 L1646.75 27.2059 L1646.75 72.576 L1639.3 72.576 L1639.3 27.2059 M1639.3 9.54393 L1646.75 9.54393 L1646.75 18.9825 L1639.3 18.9825 L1639.3 9.54393 Z\" fill=\"#000000\" fill-rule=\"evenodd\" fill-opacity=\"1\" /><circle clip-path=\"url(#clip5002)\" cx=\"175.59\" cy=\"1447.87\" r=\"14\" fill=\"#000000\" fill-rule=\"evenodd\" fill-opacity=\"1\" stroke=\"none\"/>\n",
       "<circle clip-path=\"url(#clip5002)\" cx=\"1232.47\" cy=\"162.047\" r=\"14\" fill=\"#000000\" fill-rule=\"evenodd\" fill-opacity=\"1\" stroke=\"none\"/>\n",
       "<circle clip-path=\"url(#clip5002)\" cx=\"2289.34\" cy=\"1447.87\" r=\"14\" fill=\"#000000\" fill-rule=\"evenodd\" fill-opacity=\"1\" stroke=\"none\"/>\n",
       "<circle clip-path=\"url(#clip5002)\" cx=\"704.028\" cy=\"804.96\" r=\"14\" fill=\"#000000\" fill-rule=\"evenodd\" fill-opacity=\"1\" stroke=\"none\"/>\n",
       "<circle clip-path=\"url(#clip5002)\" cx=\"1496.69\" cy=\"1126.42\" r=\"14\" fill=\"#000000\" fill-rule=\"evenodd\" fill-opacity=\"1\" stroke=\"none\"/>\n",
       "<circle clip-path=\"url(#clip5002)\" cx=\"836.138\" cy=\"1287.14\" r=\"14\" fill=\"#000000\" fill-rule=\"evenodd\" fill-opacity=\"1\" stroke=\"none\"/>\n",
       "</svg>\n"
      ]
     },
     "execution_count": 103,
     "metadata": {},
     "output_type": "execute_result"
    }
   ],
   "source": [
    "    #ESTO ES UNA PRUEBA PARA OBSERVAR SI LAS FORMULAS Y LAS GRÁFICAS FUNCIONABAN CORRECTAMENTE\n",
    "\n",
    "    x1 = 0                      \n",
    "    x2 = 25                     # Definimos todas las variables que se utilizarán para generar el triángulo \n",
    "    x3 = 50                     # utilizando (x1, y1) para el primer vertice, (x2, y2) para el segundo y (x3, y3) \n",
    "    y1 = 0                      # para el tercero, estás coordenadas fueron calculadas específicamente para generar\n",
    "    y2 = 6.124                  # un triangulo equilatero, además de definir una variable extra denominada z\n",
    "    y3 = 0                      # la cual funcionará para frenar el ciclo que se genere más adelante.\n",
    "    z = 0                       # Finalmente definimos dos variables más (w, h) que representarán nuestra\n",
    "    w = 0                       # \"posición\" durante todo el programa.\n",
    "    h = 0\n",
    "\n",
    "plot([x1], [y1], seriestype = :scatter, title = \"Triangulo de Sierpinski\", label = \"\", color = \"black\") # Generamos la gráfica y gráficamos el vertice 1\n",
    "plot!([x2], [y2], seriestype = :scatter, label = \"\", color = \"black\")                                   # Agregamos el vertice 2\n",
    "plot!([x3], [y1], seriestype = :scatter, label = \"\", color = \"black\")                                   # Agregamos el vertice 3\n",
    "\n",
    "\n",
    "        w = ((x2 + w) / 2)      # Utilizamos la formula de punto medio para así obtener el punto entre nuestra posición\n",
    "        h = ((y2 + h) / 2)      # y el segundo vertice, para así generar nuestras nuevas coordenadas.\n",
    "        \n",
    "\n",
    "plot!([w], [h], seriestype = :scatter, label = \"\", color = \"black\") # Gráficamos el punto nuevo generado por la nueva posición.\n",
    "        \n",
    "\n",
    "        w = ((x3 + w) / 2)      # Utilizamos la formula de punto medio para así obtener el punto entre nuestra posición\n",
    "        h = ((y3 + h) / 2)      # y el tercer vertice, para así generar nuestras nuevas coordenadas.\n",
    "        \n",
    "\n",
    "plot!([w], [h], seriestype = :scatter, label = \"\", color = \"black\") # Gráficamos el punto nuevo generado por la nueva posición.\n",
    "\n",
    "        w = ((x1 + w) / 2)      # Utilizamos la formula de punto medio para así obtener el punto entre nuestra posición\n",
    "        h = ((y1 + h) / 2)      # y el primer vertice, para así generar nuestras nuevas coordenadas.\n",
    "                \n",
    "      \n",
    "plot!([w], [h], seriestype = :scatter, label = \"\", color = \"black\") # Gráficamos el punto nuevo generado por la nueva posición."
   ]
  },
  {
   "cell_type": "markdown",
   "id": "48fe97be",
   "metadata": {},
   "source": [
    "## Ejercicio 3\n",
    "Una forma para estimar el valor de $\\pi$ (_3.141592..._) es usando el método de Monte Carlo. Primero, tomamos un cuadrado de 1 x 1 y un círculo inscrito de radio $\\frac{1}{2}$, generamos una cantidad arbitriaria de puntos uniformemente distribuidos sobre la superficie del cuadrado y coloreamos de rojo aquellos que se encuentren sobre la superficie del círculo, y de azul, aquellos que estén fuera."
   ]
  },
  {
   "cell_type": "markdown",
   "id": "da39d66f",
   "metadata": {},
   "source": [
    "<img src=https://www.rhernando.net/img/estimacion_pi.png>\n",
    "<center>Figura 2: Aproximación de $\\pi$ por el método de Monte Carlo"
   ]
  },
  {
   "cell_type": "markdown",
   "id": "af535100",
   "metadata": {},
   "source": [
    "Ahora, tenemos que el área del círculo está dada por $\\pi$$r^2$=$\\frac{\\pi}{4}$, mientras que el área del cuadrado es igual a 1 por lo que, si dividimos el área del círculo entre el área del cuadrado, obtenemos $\\frac{\\pi}{4}$. Además, si $N_{rojo}$ es el número de puntos rojos y $N_{total}$ es el número total de puntos, entonces $\\frac{N_{rojo}}{N_{total}}$ es una aproximación del cociente de las áreas para $N_{total}$ lo suficientemente grande; en otras palabras,\n",
    "\n",
    "<center>$\\frac{\\pi}{4}$$\\approx$$\\frac{N_{rojo}}{N_{total}}$\n",
    "\n",
    "de donde se sigue que\n",
    "\n",
    "<center>$\\pi$$\\approx$$4\\frac{N_{rojo}}{N_{total}}$"
   ]
  },
  {
   "cell_type": "markdown",
   "id": "5161f56b",
   "metadata": {},
   "source": [
    "La ecuación $\\pi$$\\approx$$4\\frac{N_{rojo}}{N_{total}}$ nos da la estimación de $\\pi$ por el método Monte Carlo"
   ]
  },
  {
   "cell_type": "markdown",
   "id": "1877f96d",
   "metadata": {},
   "source": [
    "1. Escribe un algoritmo que estime el valor de $\\pi$ y que te permita visualizar algo similar al gráfico de la **Figura 2**, asegúrate de incluir el conteo del número de puntos rojos, número de puntos totales, y la respectiva estimación de $\\pi$\n",
    "\n",
    "2. En promedio, ¿Cuántos puntos necesitas generar para obtener una presición de $\\pm$0.01?\n",
    "\n",
    "3. Realiza una gráfica del error de la estimación en función del número de puntos comparado contra el valor predeterminado de $\\pi$ de Julia (que se obtiene llamando a la constante pi)."
   ]
  },
  {
   "cell_type": "code",
   "execution_count": 15,
   "id": "fcc6e7ef",
   "metadata": {},
   "outputs": [
    {
     "ename": "LoadError",
     "evalue": "cannot assign a value to variable MathConstants.π from module Main",
     "output_type": "error",
     "traceback": [
      "cannot assign a value to variable MathConstants.π from module Main",
      "",
      "Stacktrace:",
      " [1] top-level scope",
      "   @ In[15]:1",
      " [2] eval",
      "   @ .\\boot.jl:373 [inlined]",
      " [3] include_string(mapexpr::typeof(REPL.softscope), mod::Module, code::String, filename::String)",
      "   @ Base .\\loading.jl:1196"
     ]
    }
   ],
   "source": [
    "\n"
   ]
  },
  {
   "cell_type": "code",
   "execution_count": null,
   "id": "75085367",
   "metadata": {},
   "outputs": [],
   "source": []
  }
 ],
 "metadata": {
  "kernelspec": {
   "display_name": "Julia 1.7.2",
   "language": "julia",
   "name": "julia-1.7"
  },
  "language_info": {
   "file_extension": ".jl",
   "mimetype": "application/julia",
   "name": "julia",
   "version": "1.7.2"
  }
 },
 "nbformat": 4,
 "nbformat_minor": 5
}
